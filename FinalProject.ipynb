{
  "nbformat": 4,
  "nbformat_minor": 0,
  "metadata": {
    "colab": {
      "name": "Copy of Welcome To Colaboratory",
      "provenance": [],
      "collapsed_sections": [],
      "toc_visible": true,
      "include_colab_link": true
    },
    "kernelspec": {
      "name": "python3",
      "display_name": "Python 3"
    },
    "accelerator": "GPU"
  },
  "cells": [
    {
      "cell_type": "markdown",
      "metadata": {
        "id": "view-in-github",
        "colab_type": "text"
      },
      "source": [
        "<a href=\"https://colab.research.google.com/github/you-Soft/-Assignment-2-Lexical-Scoping/blob/master/FinalProject.ipynb\" target=\"_parent\"><img src=\"https://colab.research.google.com/assets/colab-badge.svg\" alt=\"Open In Colab\"/></a>"
      ]
    },
    {
      "cell_type": "code",
      "metadata": {
        "id": "AhgNRm4l3JT9",
        "colab_type": "code",
        "outputId": "2f0fcdf6-227e-46d7-85e9-0fc3d7a840c6",
        "colab": {
          "base_uri": "https://localhost:8080/",
          "height": 118
        }
      },
      "source": [
        "from google.colab import drive\n",
        "drive.mount('/content/drive')"
      ],
      "execution_count": 0,
      "outputs": [
        {
          "output_type": "stream",
          "text": [
            "Go to this URL in a browser: https://accounts.google.com/o/oauth2/auth?client_id=947318989803-6bn6qk8qdgf4n4g3pfee6491hc0brc4i.apps.googleusercontent.com&redirect_uri=urn%3aietf%3awg%3aoauth%3a2.0%3aoob&response_type=code&scope=email%20https%3a%2f%2fwww.googleapis.com%2fauth%2fdocs.test%20https%3a%2f%2fwww.googleapis.com%2fauth%2fdrive%20https%3a%2f%2fwww.googleapis.com%2fauth%2fdrive.photos.readonly%20https%3a%2f%2fwww.googleapis.com%2fauth%2fpeopleapi.readonly\n",
            "\n",
            "Enter your authorization code:\n",
            "··········\n",
            "Mounted at /content/drive\n"
          ],
          "name": "stdout"
        }
      ]
    },
    {
      "cell_type": "code",
      "metadata": {
        "id": "C5r6F06fkUZx",
        "colab_type": "code",
        "outputId": "eab25c0b-a2c7-4c95-8916-6f47a89c2c13",
        "colab": {
          "base_uri": "https://localhost:8080/",
          "height": 1000
        }
      },
      "source": [
        "import tensorflow as tf\n",
        "import pickle\n",
        "import keras\n",
        "import matplotlib.pyplot as plt\n",
        "import numpy as np\n",
        "from keras import backend as K\n",
        "from keras.utils import np_utils\n",
        "from keras.models import Sequential # We are using Sequential model to stack layers together\n",
        "from keras.layers import Dense # We use Dense MLP layers to do final classification\n",
        "from keras.layers import Conv2D # We use Conv2D to use convolution to extract features\n",
        "from keras.layers import MaxPool2D # We use MaxPool2D to maxpool feature to get location invariance\n",
        "from keras.layers import MaxPooling2D # We use MaxPool2D to maxpool feature to get location invariance\n",
        "from keras.layers import Activation # We use various activation functions to intro non-linearities\n",
        "from keras.layers import Dropout # To get more robustnes to model by disabling temporaly some of the nodes\n",
        "from keras.layers import Flatten # We use flatten to convert 2D feature matrices into long vectors for MLP\n",
        "from keras.layers import BatchNormalization\n",
        "from keras.callbacks import ModelCheckpoint, Callback, EarlyStopping\n",
        "from keras.preprocessing.image import ImageDataGenerator\n",
        "from keras import regularizers\n",
        "def plot_model(model_details):\n",
        "    # Create sub-plots\n",
        "    fig, axs = plt.subplots(1, 2, figsize=(15, 5))\n",
        "\n",
        "    # Summarize history for accuracy\n",
        "    axs[0].plot(range(1, len(model_details.history['acc']) + 1), model_details.history['acc'])\n",
        "    axs[0].set_title('Model Accuracy')\n",
        "    axs[0].set_ylabel('Accuracy')\n",
        "    axs[0].set_xlabel('Epoch')\n",
        "    axs[0].set_xticks(np.arange(1, len(model_details.history['acc']) + 1), len(model_details.history['acc']) / 10)\n",
        "\n",
        "    # Summarize history for loss\n",
        "    axs[1].plot(range(1, len(model_details.history['loss']) + 1), model_details.history['loss'])\n",
        "    axs[1].set_title('Model Loss')\n",
        "    axs[1].set_ylabel('Loss')\n",
        "    axs[1].set_xlabel('Epoch')\n",
        "    axs[1].set_xticks(np.arange(1, len(model_details.history['loss']) + 1), len(model_details.history['loss']) / 10)\n",
        "\n",
        "    # Show the plot\n",
        "    plt.show()\n",
        "\n",
        "   \n",
        "def load_cfar10_batch(cifar10_dataset_folder_path, batch_id):\n",
        "    with open(cifar10_dataset_folder_path + '/data_batch_' + str(batch_id), mode='rb') as file:\n",
        "        batch = pickle.load(file, encoding='latin1')\n",
        "\n",
        "    # features and labels\n",
        "    features = batch['data'].reshape((len(batch['data']), 3, 32, 32)).transpose(0, 2, 3, 1)\n",
        "    labels = batch['labels']\n",
        "\n",
        "    return features, labels\n",
        "\n",
        "# ????????\n",
        "cifar10_path = '/content/drive/My Drive/YUNES-1928005/cifar-10-batches-py' # ????\n",
        "x_train, y_train = load_cfar10_batch(cifar10_path, 1)\n",
        "for i in range(2, 6):\n",
        "    features, labels = load_cfar10_batch(cifar10_path, i)\n",
        "    x_train, y_train = np.concatenate([x_train, features]), np.concatenate([y_train, labels])\n",
        "\n",
        "# ??????\n",
        "with open(cifar10_path + '/test_batch', mode='rb') as file:\n",
        "    batch = pickle.load(file, encoding='latin1')\n",
        "    x_test = batch['data'].reshape((len(batch['data']), 3, 32, 32)).transpose(0, 2, 3, 1)\n",
        "    y_test = batch['labels']\n",
        "\n",
        "\n",
        "#z-score\n",
        "mean = np.mean(x_train,axis=(0,1,2,3))\n",
        "std = np.std(x_train,axis=(0,1,2,3))\n",
        "x_train = (x_train-mean)/(std+1e-7)\n",
        "x_test = (x_test-mean)/(std+1e-7)\n",
        "\n",
        "num_classes = 10\n",
        "y_train = np_utils.to_categorical(y_train,num_classes)\n",
        "y_test = np_utils.to_categorical(y_test,num_classes)\n",
        "\n",
        "\n",
        "# ...and to scale it to (-1, 1)\n",
        "X_train = np.multiply(x_train, 2.0)\n",
        "X_test = np.multiply(x_test, 2.0)\n",
        "print(\"X_train.shape:\",X_train.shape)\n",
        "print(\"X_test.shape:\",X_test.shape)\n",
        "\n",
        "def plt_dynamic(x, vy, ty, ax, colors=['b']):\n",
        "    ax.plot(x, vy, 'b', label=\"Validation Loss\")\n",
        "    ax.plot(x, ty, 'r', label=\"Train Loss\")\n",
        "    plt.legend()\n",
        "    plt.grid()\n",
        "    fig.canvas.draw()\n",
        "K.clear_session()\n",
        "weight_decay = 1e-4\n",
        "# TODO: Implement you own model here\n",
        "model = Sequential()\n",
        "\n",
        "model.add(Conv2D(filters = 32, kernel_size = (3,3),padding = 'Same', \n",
        "                 activation ='relu', input_shape = (32, 32, 3)))\n",
        "model.add(Conv2D(filters = 32, kernel_size = (5,5),padding = 'Same', \n",
        "                 activation ='relu'))\n",
        "model.add(MaxPool2D(pool_size=(2,2)))\n",
        "model.add(Dropout(0.25))\n",
        "\n",
        "\n",
        "model.add(Conv2D(filters = 64, kernel_size = (3,3),padding = 'Same', \n",
        "                 activation ='relu'))\n",
        "model.add(Conv2D(filters = 64, kernel_size = (3,3),padding = 'Same', \n",
        "                 activation ='relu'))\n",
        "model.add(MaxPool2D(pool_size=(2,2), strides=(2,2)))\n",
        "model.add(Dropout(0.25))\n",
        "\n",
        "\n",
        "model.add(Flatten())\n",
        "model.add(Dense(256, activation = \"relu\"))\n",
        "model.add(Dropout(0.5))\n",
        "model.add(Dense(10, activation = \"softmax\"))\n",
        "\n",
        "model.summary()\n",
        "## Finally, compile the model here \n",
        "model.compile(optimizer = 'adam',\n",
        "              loss = 'binary_crossentropy',\n",
        "              metrics = ['accuracy'])\n",
        "\n",
        "\n",
        "model.summary()\n",
        "# Train the model\n",
        "model.fit(x_train, y_train, epochs=50, validation_data=(x_test, y_test), shuffle=True)\n",
        "\n",
        "\n",
        "\n",
        "#data augmentation\n",
        "datagen = ImageDataGenerator(\n",
        "    rotation_range=15,\n",
        "    width_shift_range=0.1,\n",
        "    height_shift_range=0.1,\n",
        "    horizontal_flip=True,\n",
        "    )\n",
        "\n",
        "plt.style.use('ggplot')\n",
        "\n",
        "def plot_history(history):\n",
        "    acc = model.history.history['acc']\n",
        "    val_acc = model.history.history['val_acc']\n",
        "    loss = model.history.history['loss']\n",
        "    val_loss = model.history.history['val_loss']\n",
        "    x = range(1, len(acc) + 1)\n",
        "\n",
        "    plt.figure(figsize=(12, 5))\n",
        "    plt.subplot(1, 2, 1)\n",
        "    plt.plot(x, acc, 'b', label='Training acc')\n",
        "    plt.plot(x, val_acc, 'r', label='Validation acc')\n",
        "    plt.title('Training and validation accuracy')\n",
        "    plt.legend()\n",
        "    plt.subplot(1, 2, 2)\n",
        "    plt.plot(x, loss, 'b', label='Training loss')\n",
        "    plt.plot(x, val_loss, 'r', label='Validation loss')\n",
        "    plt.title('Training and validation loss')\n",
        "    plt.legend()\n",
        "plot_history(model.history)\n",
        "#save to disk\n",
        "model_json = model.to_json()\n",
        "with open('/content/drive/My Drive/YUNES-1928005/model.json', 'w') as json_file:\n",
        "    json_file.write(model_json)\n",
        "\n",
        "model.save_weights('/content/drive/My Drive/YUNES-1928005/model.h5')\n",
        "scores = model.evaluate(x_test, y_test) # accuracy on the test set\n",
        "print(\"Accuracy test: %.2f%%\" % (scores[1]*100))\n"
      ],
      "execution_count": 74,
      "outputs": [
        {
          "output_type": "stream",
          "text": [
            "X_train.shape: (50000, 32, 32, 3)\n",
            "X_test.shape: (10000, 32, 32, 3)\n",
            "Model: \"sequential_1\"\n",
            "_________________________________________________________________\n",
            "Layer (type)                 Output Shape              Param #   \n",
            "=================================================================\n",
            "conv2d_1 (Conv2D)            (None, 32, 32, 32)        896       \n",
            "_________________________________________________________________\n",
            "conv2d_2 (Conv2D)            (None, 32, 32, 32)        25632     \n",
            "_________________________________________________________________\n",
            "max_pooling2d_1 (MaxPooling2 (None, 16, 16, 32)        0         \n",
            "_________________________________________________________________\n",
            "dropout_1 (Dropout)          (None, 16, 16, 32)        0         \n",
            "_________________________________________________________________\n",
            "conv2d_3 (Conv2D)            (None, 16, 16, 64)        18496     \n",
            "_________________________________________________________________\n",
            "conv2d_4 (Conv2D)            (None, 16, 16, 64)        36928     \n",
            "_________________________________________________________________\n",
            "max_pooling2d_2 (MaxPooling2 (None, 8, 8, 64)          0         \n",
            "_________________________________________________________________\n",
            "dropout_2 (Dropout)          (None, 8, 8, 64)          0         \n",
            "_________________________________________________________________\n",
            "flatten_1 (Flatten)          (None, 4096)              0         \n",
            "_________________________________________________________________\n",
            "dense_1 (Dense)              (None, 256)               1048832   \n",
            "_________________________________________________________________\n",
            "dropout_3 (Dropout)          (None, 256)               0         \n",
            "_________________________________________________________________\n",
            "dense_2 (Dense)              (None, 10)                2570      \n",
            "=================================================================\n",
            "Total params: 1,133,354\n",
            "Trainable params: 1,133,354\n",
            "Non-trainable params: 0\n",
            "_________________________________________________________________\n",
            "Model: \"sequential_1\"\n",
            "_________________________________________________________________\n",
            "Layer (type)                 Output Shape              Param #   \n",
            "=================================================================\n",
            "conv2d_1 (Conv2D)            (None, 32, 32, 32)        896       \n",
            "_________________________________________________________________\n",
            "conv2d_2 (Conv2D)            (None, 32, 32, 32)        25632     \n",
            "_________________________________________________________________\n",
            "max_pooling2d_1 (MaxPooling2 (None, 16, 16, 32)        0         \n",
            "_________________________________________________________________\n",
            "dropout_1 (Dropout)          (None, 16, 16, 32)        0         \n",
            "_________________________________________________________________\n",
            "conv2d_3 (Conv2D)            (None, 16, 16, 64)        18496     \n",
            "_________________________________________________________________\n",
            "conv2d_4 (Conv2D)            (None, 16, 16, 64)        36928     \n",
            "_________________________________________________________________\n",
            "max_pooling2d_2 (MaxPooling2 (None, 8, 8, 64)          0         \n",
            "_________________________________________________________________\n",
            "dropout_2 (Dropout)          (None, 8, 8, 64)          0         \n",
            "_________________________________________________________________\n",
            "flatten_1 (Flatten)          (None, 4096)              0         \n",
            "_________________________________________________________________\n",
            "dense_1 (Dense)              (None, 256)               1048832   \n",
            "_________________________________________________________________\n",
            "dropout_3 (Dropout)          (None, 256)               0         \n",
            "_________________________________________________________________\n",
            "dense_2 (Dense)              (None, 10)                2570      \n",
            "=================================================================\n",
            "Total params: 1,133,354\n",
            "Trainable params: 1,133,354\n",
            "Non-trainable params: 0\n",
            "_________________________________________________________________\n",
            "Train on 50000 samples, validate on 10000 samples\n",
            "Epoch 1/50\n",
            "50000/50000 [==============================] - 16s 311us/step - loss: 0.2289 - acc: 0.9129 - val_loss: 0.1773 - val_acc: 0.9296\n",
            "Epoch 2/50\n",
            "50000/50000 [==============================] - 15s 296us/step - loss: 0.1772 - acc: 0.9308 - val_loss: 0.1461 - val_acc: 0.9422\n",
            "Epoch 3/50\n",
            "50000/50000 [==============================] - 15s 303us/step - loss: 0.1562 - acc: 0.9387 - val_loss: 0.1403 - val_acc: 0.9459\n",
            "Epoch 4/50\n",
            "50000/50000 [==============================] - 16s 311us/step - loss: 0.1452 - acc: 0.9430 - val_loss: 0.1284 - val_acc: 0.9491\n",
            "Epoch 5/50\n",
            "50000/50000 [==============================] - 15s 309us/step - loss: 0.1375 - acc: 0.9464 - val_loss: 0.1255 - val_acc: 0.9515\n",
            "Epoch 6/50\n",
            "50000/50000 [==============================] - 15s 309us/step - loss: 0.1303 - acc: 0.9491 - val_loss: 0.1242 - val_acc: 0.9510\n",
            "Epoch 7/50\n",
            "50000/50000 [==============================] - 15s 302us/step - loss: 0.1262 - acc: 0.9511 - val_loss: 0.1218 - val_acc: 0.9526\n",
            "Epoch 8/50\n",
            "50000/50000 [==============================] - 15s 296us/step - loss: 0.1218 - acc: 0.9525 - val_loss: 0.1233 - val_acc: 0.9527\n",
            "Epoch 9/50\n",
            "50000/50000 [==============================] - 15s 297us/step - loss: 0.1196 - acc: 0.9536 - val_loss: 0.1176 - val_acc: 0.9540\n",
            "Epoch 10/50\n",
            "50000/50000 [==============================] - 15s 305us/step - loss: 0.1160 - acc: 0.9548 - val_loss: 0.1193 - val_acc: 0.9544\n",
            "Epoch 11/50\n",
            "50000/50000 [==============================] - 15s 298us/step - loss: 0.1117 - acc: 0.9567 - val_loss: 0.1146 - val_acc: 0.9560\n",
            "Epoch 12/50\n",
            "50000/50000 [==============================] - 15s 294us/step - loss: 0.1093 - acc: 0.9576 - val_loss: 0.1190 - val_acc: 0.9551\n",
            "Epoch 13/50\n",
            "50000/50000 [==============================] - 15s 296us/step - loss: 0.1080 - acc: 0.9581 - val_loss: 0.1179 - val_acc: 0.9558\n",
            "Epoch 14/50\n",
            "50000/50000 [==============================] - 15s 296us/step - loss: 0.1065 - acc: 0.9588 - val_loss: 0.1124 - val_acc: 0.9575\n",
            "Epoch 15/50\n",
            "50000/50000 [==============================] - 15s 294us/step - loss: 0.1040 - acc: 0.9598 - val_loss: 0.1125 - val_acc: 0.9583\n",
            "Epoch 16/50\n",
            "50000/50000 [==============================] - 15s 293us/step - loss: 0.1012 - acc: 0.9607 - val_loss: 0.1092 - val_acc: 0.9585\n",
            "Epoch 17/50\n",
            "50000/50000 [==============================] - 15s 298us/step - loss: 0.1006 - acc: 0.9608 - val_loss: 0.1179 - val_acc: 0.9570\n",
            "Epoch 18/50\n",
            "50000/50000 [==============================] - 15s 296us/step - loss: 0.0988 - acc: 0.9617 - val_loss: 0.1120 - val_acc: 0.9580\n",
            "Epoch 19/50\n",
            "50000/50000 [==============================] - 15s 296us/step - loss: 0.0972 - acc: 0.9628 - val_loss: 0.1089 - val_acc: 0.9588\n",
            "Epoch 20/50\n",
            "50000/50000 [==============================] - 15s 297us/step - loss: 0.0962 - acc: 0.9628 - val_loss: 0.1091 - val_acc: 0.9591\n",
            "Epoch 21/50\n",
            "50000/50000 [==============================] - 15s 295us/step - loss: 0.0948 - acc: 0.9633 - val_loss: 0.1186 - val_acc: 0.9569\n",
            "Epoch 22/50\n",
            "50000/50000 [==============================] - 15s 295us/step - loss: 0.0944 - acc: 0.9636 - val_loss: 0.1143 - val_acc: 0.9578\n",
            "Epoch 23/50\n",
            "50000/50000 [==============================] - 15s 294us/step - loss: 0.0937 - acc: 0.9639 - val_loss: 0.1133 - val_acc: 0.9588\n",
            "Epoch 24/50\n",
            "50000/50000 [==============================] - 15s 296us/step - loss: 0.0916 - acc: 0.9648 - val_loss: 0.1121 - val_acc: 0.9592\n",
            "Epoch 25/50\n",
            "50000/50000 [==============================] - 15s 308us/step - loss: 0.0906 - acc: 0.9653 - val_loss: 0.1113 - val_acc: 0.9590\n",
            "Epoch 26/50\n",
            "50000/50000 [==============================] - 16s 312us/step - loss: 0.0906 - acc: 0.9650 - val_loss: 0.1089 - val_acc: 0.9595\n",
            "Epoch 27/50\n",
            "50000/50000 [==============================] - 15s 309us/step - loss: 0.0903 - acc: 0.9652 - val_loss: 0.1100 - val_acc: 0.9589\n",
            "Epoch 28/50\n",
            "50000/50000 [==============================] - 15s 305us/step - loss: 0.0881 - acc: 0.9664 - val_loss: 0.1086 - val_acc: 0.9607\n",
            "Epoch 29/50\n",
            "50000/50000 [==============================] - 15s 295us/step - loss: 0.0872 - acc: 0.9666 - val_loss: 0.1101 - val_acc: 0.9600\n",
            "Epoch 30/50\n",
            "50000/50000 [==============================] - 15s 296us/step - loss: 0.0861 - acc: 0.9670 - val_loss: 0.1086 - val_acc: 0.9611\n",
            "Epoch 31/50\n",
            "50000/50000 [==============================] - 15s 300us/step - loss: 0.0873 - acc: 0.9664 - val_loss: 0.1088 - val_acc: 0.9611\n",
            "Epoch 32/50\n",
            "50000/50000 [==============================] - 15s 293us/step - loss: 0.0851 - acc: 0.9675 - val_loss: 0.1085 - val_acc: 0.9607\n",
            "Epoch 33/50\n",
            "50000/50000 [==============================] - 15s 296us/step - loss: 0.0866 - acc: 0.9668 - val_loss: 0.1105 - val_acc: 0.9603\n",
            "Epoch 34/50\n",
            "50000/50000 [==============================] - 15s 299us/step - loss: 0.0858 - acc: 0.9671 - val_loss: 0.1115 - val_acc: 0.9604\n",
            "Epoch 35/50\n",
            "50000/50000 [==============================] - 15s 295us/step - loss: 0.0848 - acc: 0.9678 - val_loss: 0.1149 - val_acc: 0.9598\n",
            "Epoch 36/50\n",
            "50000/50000 [==============================] - 15s 300us/step - loss: 0.0838 - acc: 0.9680 - val_loss: 0.1125 - val_acc: 0.9612\n",
            "Epoch 37/50\n",
            "50000/50000 [==============================] - 15s 296us/step - loss: 0.0828 - acc: 0.9683 - val_loss: 0.1099 - val_acc: 0.9608\n",
            "Epoch 38/50\n",
            "50000/50000 [==============================] - 15s 297us/step - loss: 0.0822 - acc: 0.9688 - val_loss: 0.1157 - val_acc: 0.9607\n",
            "Epoch 39/50\n",
            "50000/50000 [==============================] - 15s 297us/step - loss: 0.0822 - acc: 0.9686 - val_loss: 0.1109 - val_acc: 0.9604\n",
            "Epoch 40/50\n",
            "50000/50000 [==============================] - 15s 292us/step - loss: 0.0823 - acc: 0.9687 - val_loss: 0.1131 - val_acc: 0.9599\n",
            "Epoch 41/50\n",
            "50000/50000 [==============================] - 15s 297us/step - loss: 0.0806 - acc: 0.9693 - val_loss: 0.1144 - val_acc: 0.9604\n",
            "Epoch 42/50\n",
            "50000/50000 [==============================] - 15s 297us/step - loss: 0.0825 - acc: 0.9687 - val_loss: 0.1118 - val_acc: 0.9605\n",
            "Epoch 43/50\n",
            "50000/50000 [==============================] - 15s 294us/step - loss: 0.0806 - acc: 0.9693 - val_loss: 0.1148 - val_acc: 0.9603\n",
            "Epoch 44/50\n",
            "50000/50000 [==============================] - 15s 292us/step - loss: 0.0816 - acc: 0.9692 - val_loss: 0.1101 - val_acc: 0.9609\n",
            "Epoch 45/50\n",
            "50000/50000 [==============================] - 15s 291us/step - loss: 0.0788 - acc: 0.9701 - val_loss: 0.1104 - val_acc: 0.9616\n",
            "Epoch 46/50\n",
            "50000/50000 [==============================] - 15s 298us/step - loss: 0.0797 - acc: 0.9698 - val_loss: 0.1145 - val_acc: 0.9599\n",
            "Epoch 47/50\n",
            "50000/50000 [==============================] - 15s 292us/step - loss: 0.0799 - acc: 0.9694 - val_loss: 0.1135 - val_acc: 0.9602\n",
            "Epoch 48/50\n",
            "50000/50000 [==============================] - 15s 291us/step - loss: 0.0787 - acc: 0.9703 - val_loss: 0.1142 - val_acc: 0.9615\n",
            "Epoch 49/50\n",
            "50000/50000 [==============================] - 15s 294us/step - loss: 0.0784 - acc: 0.9701 - val_loss: 0.1163 - val_acc: 0.9605\n",
            "Epoch 50/50\n",
            "50000/50000 [==============================] - 15s 295us/step - loss: 0.0776 - acc: 0.9705 - val_loss: 0.1151 - val_acc: 0.9610\n",
            "10000/10000 [==============================] - 1s 106us/step\n",
            "Accuracy test: 96.10%\n"
          ],
          "name": "stdout"
        },
        {
          "output_type": "display_data",
          "data": {
            "image/png": "[encoded data removed]",
            "text/plain": [
              "<Figure size 864x360 with 2 Axes>"
            ]
          },
          "metadata": {
            "tags": []
          }
        }
      ]
    },
    {
      "cell_type": "code",
      "metadata": {
        "id": "HktCPiumszyq",
        "colab_type": "code",
        "outputId": "a49ba357-ad5d-4d36-e6ae-35b24a24ee3c",
        "colab": {
          "base_uri": "https://localhost:8080/",
          "height": 85
        }
      },
      "source": [
        "# Compute loss and acc for training and testing\n",
        "loss_train, acc_train = model.evaluate(x_train, y_train) # TODO: You migh need to change y_train to y_train_cat\n",
        "loss_test, acc_test = model.evaluate(x_test, y_test) # TODO: You migh need to change y_test to y_test_cat\n",
        "print('\\nLoss: %f/%f Acc: %f/%f' % (loss_train, loss_test, acc_train, acc_test))"
      ],
      "execution_count": 75,
      "outputs": [
        {
          "output_type": "stream",
          "text": [
            "50000/50000 [==============================] - 6s 118us/step\n",
            "10000/10000 [==============================] - 1s 116us/step\n",
            "\n",
            "Loss: 0.028015/0.115097 Acc: 0.990434/0.960980\n"
          ],
          "name": "stdout"
        }
      ]
    },
    {
      "cell_type": "code",
      "metadata": {
        "id": "54tsn81PM8hY",
        "colab_type": "code",
        "outputId": "5313d605-4136-4709-deb8-81bc5aea526b",
        "colab": {
          "base_uri": "https://localhost:8080/",
          "height": 68
        }
      },
      "source": [
        "#testing\n",
        "scores = model.evaluate(x_test, y_test, batch_size=128, verbose=1)\n",
        "print('\\nTest result: %.3f loss: %.3f' % (scores[1]*100,scores[0]))"
      ],
      "execution_count": 76,
      "outputs": [
        {
          "output_type": "stream",
          "text": [
            "10000/10000 [==============================] - 1s 80us/step\n",
            "\n",
            "Test result: 96.098 loss: 0.115\n"
          ],
          "name": "stdout"
        }
      ]
    },
    {
      "cell_type": "code",
      "metadata": {
        "id": "1rwyrm6fSgtr",
        "colab_type": "code",
        "colab": {
          "base_uri": "https://localhost:8080/",
          "height": 231
        },
        "outputId": "4e8791de-3bf0-4018-b8d6-fa2337dbcbfd"
      },
      "source": [
        "\n",
        " \n",
        "# Load trained CNN model\n",
        "json_file = open('/content/drive/My Drive/YUNES-1928005/model.json', 'r')\n",
        "loaded_model_json = json_file.read()\n",
        "json_file.close()\n",
        "model = model_from_json(loaded_model_json)\n",
        "model.load_weights('/content/drive/My Drive/YUNES-1928005/model.h5')\n",
        " \n",
        "labels =  ['airplane','automobile','bird','cat','deer','dog','frog','horse','ship','truck']\n",
        " \n",
        "indices = np.argmax(model.predict(x_test[:16]),1)\n",
        "print( [labels[x] for x in indices])"
      ],
      "execution_count": 48,
      "outputs": [
        {
          "output_type": "error",
          "ename": "NameError",
          "evalue": "ignored",
          "traceback": [
            "\u001b[0;31m---------------------------------------------------------------------------\u001b[0m",
            "\u001b[0;31mNameError\u001b[0m                                 Traceback (most recent call last)",
            "\u001b[0;32m<ipython-input-48-b9bfa7ecf392>\u001b[0m in \u001b[0;36m<module>\u001b[0;34m()\u001b[0m\n\u001b[0;32m----> 1\u001b[0;31m \u001b[0mshow_imgs\u001b[0m\u001b[0;34m(\u001b[0m\u001b[0mx_test\u001b[0m\u001b[0;34m[\u001b[0m\u001b[0;34m:\u001b[0m\u001b[0;36m16\u001b[0m\u001b[0;34m]\u001b[0m\u001b[0;34m)\u001b[0m\u001b[0;34m\u001b[0m\u001b[0;34m\u001b[0m\u001b[0m\n\u001b[0m\u001b[1;32m      2\u001b[0m \u001b[0;34m\u001b[0m\u001b[0m\n\u001b[1;32m      3\u001b[0m \u001b[0;31m# Load trained CNN model\u001b[0m\u001b[0;34m\u001b[0m\u001b[0;34m\u001b[0m\u001b[0;34m\u001b[0m\u001b[0m\n\u001b[1;32m      4\u001b[0m \u001b[0mjson_file\u001b[0m \u001b[0;34m=\u001b[0m \u001b[0mopen\u001b[0m\u001b[0;34m(\u001b[0m\u001b[0;34m'/content/drive/My Drive/YUNES-1928005/model.json'\u001b[0m\u001b[0;34m,\u001b[0m \u001b[0;34m'r'\u001b[0m\u001b[0;34m)\u001b[0m\u001b[0;34m\u001b[0m\u001b[0;34m\u001b[0m\u001b[0m\n\u001b[1;32m      5\u001b[0m \u001b[0mloaded_model_json\u001b[0m \u001b[0;34m=\u001b[0m \u001b[0mjson_file\u001b[0m\u001b[0;34m.\u001b[0m\u001b[0mread\u001b[0m\u001b[0;34m(\u001b[0m\u001b[0;34m)\u001b[0m\u001b[0;34m\u001b[0m\u001b[0;34m\u001b[0m\u001b[0m\n",
            "\u001b[0;31mNameError\u001b[0m: name 'show_imgs' is not defined"
          ]
        }
      ]
    },
    {
      "cell_type": "code",
      "metadata": {
        "colab_type": "code",
        "id": "xitplqMNk_Hc",
        "outputId": "ed4f60d2-878d-4056-c438-352dac39a112",
        "colab": {
          "height": 420
        }
      },
      "source": [
        "#@title Introducing Colaboratory { display-mode: \"form\" }\n",
        "#@markdown This 3-minute video gives an overview of the key features of Colaboratory:\n",
        "from IPython.display import YouTubeVideo\n",
        "YouTubeVideo('inN8seMm7UI', width=600, height=400)"
      ],
      "execution_count": 0,
      "outputs": [
        {
          "output_type": "execute_result",
          "data": {
            "text/html": [
              "\n",
              "        <iframe\n",
              "            width=\"600\"\n",
              "            height=\"400\"\n",
              "            src=\"https://www.youtube.com/embed/inN8seMm7UI\"\n",
              "            frameborder=\"0\"\n",
              "            allowfullscreen\n",
              "        ></iframe>\n",
              "        "
            ],
            "text/plain": [
              "<IPython.lib.display.YouTubeVideo at 0x7f956e9dda50>"
            ]
          },
          "metadata": {
            "tags": []
          },
          "execution_count": 0
        }
      ]
    },
    {
      "cell_type": "markdown",
      "metadata": {
        "colab_type": "text",
        "id": "GJBs_flRovLc"
      },
      "source": [
        "## Getting Started\n",
        "\n",
        "The document you are reading is a  [Jupyter notebook](https://jupyter.org/), hosted in Colaboratory. It is not a static page, but an interactive environment that lets you write and execute code in Python and other languages.\n",
        "\n",
        "For example, here is a **code cell** with a short Python script that computes a value, stores it in a variable, and prints the result:"
      ]
    },
    {
      "cell_type": "markdown",
      "metadata": {
        "colab_type": "text",
        "id": "2fhs6GZ4qFMx"
      },
      "source": [
        "To execute the code in the above cell, select it with a click and then either press the play button to the left of the code, or use the keyboard shortcut \"Command/Ctrl+Enter\".\n",
        "\n",
        "All cells modify the same global state, so variables that you define by executing a cell can be used in other cells:"
      ]
    },
    {
      "cell_type": "markdown",
      "metadata": {
        "colab_type": "text",
        "id": "lSrWNr3MuFUS"
      },
      "source": [
        "For more information about working with Colaboratory notebooks, see [Overview of Colaboratory](/notebooks/basic_features_overview.ipynb).\n"
      ]
    },
    {
      "cell_type": "markdown",
      "metadata": {
        "colab_type": "text",
        "id": "-Rh3-Vt9Nev9"
      },
      "source": [
        "## More Resources\n",
        "\n",
        "Learn how to make the most of Python, Jupyter, Colaboratory, and related tools with these resources:\n",
        "\n",
        "### Working with Notebooks in Colaboratory\n",
        "- [Overview of Colaboratory](/notebooks/basic_features_overview.ipynb)\n",
        "- [Guide to Markdown](/notebooks/markdown_guide.ipynb)\n",
        "- [Importing libraries and installing dependencies](/notebooks/snippets/importing_libraries.ipynb)\n",
        "- [Saving and loading notebooks in GitHub](https://colab.research.google.com/github/googlecolab/colabtools/blob/master/notebooks/colab-github-demo.ipynb)\n",
        "- [Interactive forms](/notebooks/forms.ipynb)\n",
        "- [Interactive widgets](/notebooks/widgets.ipynb)\n",
        "- <img src=\"/img/new.png\" height=\"20px\" align=\"left\" hspace=\"4px\" alt=\"New\"></img>\n",
        " [TensorFlow 2 in Colab](/notebooks/tensorflow_version.ipynb)\n",
        "\n",
        "### Working with Data\n",
        "- [Loading data: Drive, Sheets, and Google Cloud Storage](/notebooks/io.ipynb) \n",
        "- [Charts: visualizing data](/notebooks/charts.ipynb)\n",
        "- [Getting started with BigQuery](/notebooks/bigquery.ipynb)\n",
        "\n",
        "### Machine Learning Crash Course\n",
        "These are a few of the notebooks from Google's online Machine Learning course. See the [full course website](https://developers.google.com/machine-learning/crash-course/) for more.\n",
        "- [Intro to Pandas](/notebooks/mlcc/intro_to_pandas.ipynb)\n",
        "- [Tensorflow concepts](/notebooks/mlcc/tensorflow_programming_concepts.ipynb)\n",
        "- [First steps with TensorFlow](/notebooks/mlcc/first_steps_with_tensor_flow.ipynb)\n",
        "- [Intro to neural nets](/notebooks/mlcc/intro_to_neural_nets.ipynb)\n",
        "- [Intro to sparse data and embeddings](/notebooks/mlcc/intro_to_sparse_data_and_embeddings.ipynb)\n",
        "\n",
        "### Using Accelerated Hardware\n",
        "- [TensorFlow with GPUs](/notebooks/gpu.ipynb)\n",
        "- [TensorFlow with TPUs](/notebooks/tpu.ipynb)"
      ]
    },
    {
      "cell_type": "markdown",
      "metadata": {
        "colab_type": "text",
        "id": "P-H6Lw1vyNNd"
      },
      "source": [
        "## Machine Learning Examples: Seedbank\n",
        "\n",
        "To see end-to-end examples of the interactive machine learning analyses that Colaboratory makes possible, check out the [Seedbank](https://research.google.com/seedbank/) project.\n",
        "\n",
        "A few featured examples:\n",
        "\n",
        "- [Neural Style Transfer](https://research.google.com/seedbank/seed/neural_style_transfer_with_tfkeras): Use deep learning to transfer style between images.\n",
        "- [EZ NSynth](https://research.google.com/seedbank/seed/ez_nsynth): Synthesize audio with WaveNet auto-encoders.\n",
        "- [Fashion MNIST with Keras and TPUs](https://research.google.com/seedbank/seed/fashion_mnist_with_keras_and_tpus): Classify fashion-related images with deep learning.\n",
        "- [DeepDream](https://research.google.com/seedbank/seed/deepdream): Produce DeepDream images from your own photos.\n",
        "- [Convolutional VAE](https://research.google.com/seedbank/seed/convolutional_vae): Create a generative model of handwritten digits."
      ]
    }
  ]
}