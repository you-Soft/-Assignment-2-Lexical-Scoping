{
  "nbformat": 4,
  "nbformat_minor": 0,
  "metadata": {
    "colab": {
      "name": "Copy of Welcome To Colaboratory",
      "provenance": [],
      "collapsed_sections": [],
      "include_colab_link": true
    },
    "kernelspec": {
      "name": "python3",
      "display_name": "Python 3"
    },
    "accelerator": "GPU"
  },
  "cells": [
    {
      "cell_type": "markdown",
      "metadata": {
        "id": "view-in-github",
        "colab_type": "text"
      },
      "source": [
        "<a href=\"https://colab.research.google.com/github/you-Soft/-Assignment-2-Lexical-Scoping/blob/master/yyyy.ipynb\" target=\"_parent\"><img src=\"https://colab.research.google.com/assets/colab-badge.svg\" alt=\"Open In Colab\"/></a>"
      ]
    },
    {
      "cell_type": "code",
      "metadata": {
        "id": "AhgNRm4l3JT9",
        "colab_type": "code",
        "outputId": "770d8c4a-79b1-411c-bead-52f8f22c2a77",
        "colab": {
          "base_uri": "https://localhost:8080/",
          "height": 125
        }
      },
      "source": [
        "from google.colab import drive\n",
        "drive.mount('/content/drive')"
      ],
      "execution_count": 4,
      "outputs": [
        {
          "output_type": "stream",
          "text": [
            "Go to this URL in a browser: https://accounts.google.com/o/oauth2/auth?client_id=947318989803-6bn6qk8qdgf4n4g3pfee6491hc0brc4i.apps.googleusercontent.com&redirect_uri=urn%3aietf%3awg%3aoauth%3a2.0%3aoob&response_type=code&scope=email%20https%3a%2f%2fwww.googleapis.com%2fauth%2fdocs.test%20https%3a%2f%2fwww.googleapis.com%2fauth%2fdrive%20https%3a%2f%2fwww.googleapis.com%2fauth%2fdrive.photos.readonly%20https%3a%2f%2fwww.googleapis.com%2fauth%2fpeopleapi.readonly\n",
            "\n",
            "Enter your authorization code:\n",
            "··········\n",
            "Mounted at /content/drive\n"
          ],
          "name": "stdout"
        }
      ]
    },
    {
      "cell_type": "code",
      "metadata": {
        "id": "SbYPQlidxqQO",
        "colab_type": "code",
        "colab": {
          "base_uri": "https://localhost:8080/",
          "height": 81
        },
        "outputId": "048f07cb-817d-4c0f-bf8c-e50cbfda3912"
      },
      "source": [
        "import tensorflow as tf\n",
        "import pickle\n",
        "import keras\n",
        "from keras.utils.np_utils import to_categorical\n",
        "from keras.models import Sequential # We are using Sequential model to stack layers together\n",
        "from keras.layers import Dense # We use Dense MLP layers to do final classification\n",
        "from keras.layers import Conv2D # We use Conv2D to use convolution to extract features\n",
        "from keras.layers import MaxPool2D # We use MaxPool2D to maxpool feature to get location invariance\n",
        "from keras.layers import MaxPooling2D # We use MaxPool2D to maxpool feature to get location invariance\n",
        "from keras.layers import Activation # We use various activation functions to intro non-linearities\n",
        "from keras.layers import Dropout # To get more robustnes to model by disabling temporaly some of the nodes\n",
        "from keras.layers import Flatten # We use flatten to convert 2D feature matrices into long vectors for MLP\n",
        "import matplotlib.pyplot as plt\n",
        "import numpy as np\n",
        "from keras import backend as K\n",
        "from keras.utils import np_utils\n",
        "from keras.layers import BatchNormalization\n",
        "#from keras.callbacks import ModelCheckpoint, Callback, EarlyStopping\n",
        "from keras.preprocessing.image import ImageDataGenerator\n",
        "from keras import regularizers"
      ],
      "execution_count": 5,
      "outputs": [
        {
          "output_type": "display_data",
          "data": {
            "text/html": [
              "<p style=\"color: red;\">\n",
              "The default version of TensorFlow in Colab will soon switch to TensorFlow 2.x.<br>\n",
              "We recommend you <a href=\"https://www.tensorflow.org/guide/migrate\" target=\"_blank\">upgrade</a> now \n",
              "or ensure your notebook will continue to use TensorFlow 1.x via the <code>%tensorflow_version 1.x</code> magic:\n",
              "<a href=\"https://colab.research.google.com/notebooks/tensorflow_version.ipynb\" target=\"_blank\">more info</a>.</p>\n"
            ],
            "text/plain": [
              "<IPython.core.display.HTML object>"
            ]
          },
          "metadata": {
            "tags": []
          }
        },
        {
          "output_type": "stream",
          "text": [
            "Using TensorFlow backend.\n"
          ],
          "name": "stderr"
        }
      ]
    },
    {
      "cell_type": "markdown",
      "metadata": {
        "id": "ysYvQ_SX6BDf",
        "colab_type": "text"
      },
      "source": [
        "**Import CIFAR-10 dataset**\n",
        "\n",
        "The CIFAR-10 dataset (Canadian Institute For Advanced Research) is a collection of images that are commonly used to train machine learning and computer vision algorithms. It is one of the most widely used datasets for machine learning research. The CIFAR-10 dataset contains 60,000 32x32 color images in 10 different classes. The 10 different classes represent airplanes, cars, birds, cats, deer, dogs, frogs, horses, ships, and trucks. There are 6,000 images of each class."
      ]
    },
    {
      "cell_type": "code",
      "metadata": {
        "id": "MSXGstKRxqa6",
        "colab_type": "code",
        "colab": {}
      },
      "source": [
        "def load_cfar10_batch(cifar10_dataset_folder_path, batch_id):\n",
        "    with open(cifar10_dataset_folder_path + '/data_batch_' + str(batch_id), mode='rb') as file:\n",
        "        batch = pickle.load(file, encoding='latin1')\n",
        "\n",
        "    # features and labels\n",
        "    features = batch['data'].reshape((len(batch['data']), 3, 32, 32)).transpose(0, 2, 3, 1)\n",
        "    labels = batch['labels']\n",
        "\n",
        "    return features, labels\n",
        "\n",
        "# ????????\n",
        "cifar10_path = '/content/drive/My Drive/YUNES-1928005/cifar-10-batches-py' # ????\n",
        "x_train, y_train = load_cfar10_batch(cifar10_path, 1)\n",
        "for i in range(2, 6):\n",
        "    features, labels = load_cfar10_batch(cifar10_path, i)\n",
        "    x_train, y_train = np.concatenate([x_train, features]), np.concatenate([y_train, labels])\n",
        "\n",
        "# ??????\n",
        "with open(cifar10_path + '/test_batch', mode='rb') as file:\n",
        "    batch = pickle.load(file, encoding='latin1')\n",
        "    x_test = batch['data'].reshape((len(batch['data']), 3, 32, 32)).transpose(0, 2, 3, 1)\n",
        "    y_test = batch['labels']"
      ],
      "execution_count": 0,
      "outputs": []
    },
    {
      "cell_type": "markdown",
      "metadata": {
        "id": "LxYH3dPj7EWv",
        "colab_type": "text"
      },
      "source": [
        "** CIFAR-10 dataset classes¶**\n",
        "The 10 different classes represent airplanes, cars, birds, cats, deer, dogs, frogs, horses, ships, and trucks. There are 6,000 images of each class."
      ]
    },
    {
      "cell_type": "code",
      "metadata": {
        "id": "OWR2MfdE43f-",
        "colab_type": "code",
        "colab": {}
      },
      "source": [
        "# cifar-10 classes\n",
        "cifar_classes = ['airplane', 'automobile', 'bird', 'cat', 'deer', 'dog', 'frog', 'horse', 'ship', 'truck']"
      ],
      "execution_count": 0,
      "outputs": []
    },
    {
      "cell_type": "markdown",
      "metadata": {
        "id": "Xp9rNioT5k4z",
        "colab_type": "text"
      },
      "source": [
        "Here are the first 10 sample images from the training data. The images have a structure of (32,32,3) which correspond to (width, height, RGB)."
      ]
    },
    {
      "cell_type": "code",
      "metadata": {
        "id": "vn0DMjggz8Zu",
        "colab_type": "code",
        "outputId": "45b3deb4-4170-4e76-9d8c-963182602cb6",
        "colab": {
          "base_uri": "https://localhost:8080/",
          "height": 1000
        }
      },
      "source": [
        "for z in range(10):\n",
        "    images = X_train[z]\n",
        "    plt.imshow(images)\n",
        "    plt.show()"
      ],
      "execution_count": 0,
      "outputs": [
        {
          "output_type": "stream",
          "text": [
            "Clipping input data to the valid range for imshow with RGB data ([0..1] for floats or [0..255] for integers).\n"
          ],
          "name": "stderr"
        },
        {
          "output_type": "display_data",
          "data": {
            "image/png": "[encoded data removed]",
            "text/plain": [
              "<Figure size 432x288 with 1 Axes>"
            ]
          },
          "metadata": {
            "tags": []
          }
        },
        {
          "output_type": "stream",
          "text": [
            "Clipping input data to the valid range for imshow with RGB data ([0..1] for floats or [0..255] for integers).\n"
          ],
          "name": "stderr"
        },
        {
          "output_type": "display_data",
          "data": {
            "image/png": "[encoded data removed]",
            "text/plain": [
              "<Figure size 432x288 with 1 Axes>"
            ]
          },
          "metadata": {
            "tags": []
          }
        },
        {
          "output_type": "stream",
          "text": [
            "Clipping input data to the valid range for imshow with RGB data ([0..1] for floats or [0..255] for integers).\n"
          ],
          "name": "stderr"
        },
        {
          "output_type": "display_data",
          "data": {
            "image/png": "[encoded data removed]",
            "text/plain": [
              "<Figure size 432x288 with 1 Axes>"
            ]
          },
          "metadata": {
            "tags": []
          }
        },
        {
          "output_type": "stream",
          "text": [
            "Clipping input data to the valid range for imshow with RGB data ([0..1] for floats or [0..255] for integers).\n"
          ],
          "name": "stderr"
        },
        {
          "output_type": "display_data",
          "data": {
            "image/png": "[encoded data removed]",
            "text/plain": [
              "<Figure size 432x288 with 1 Axes>"
            ]
          },
          "metadata": {
            "tags": []
          }
        },
        {
          "output_type": "stream",
          "text": [
            "Clipping input data to the valid range for imshow with RGB data ([0..1] for floats or [0..255] for integers).\n"
          ],
          "name": "stderr"
        },
        {
          "output_type": "display_data",
          "data": {
            "image/png": "[encoded data removed]",
            "text/plain": [
              "<Figure size 432x288 with 1 Axes>"
            ]
          },
          "metadata": {
            "tags": []
          }
        },
        {
          "output_type": "stream",
          "text": [
            "Clipping input data to the valid range for imshow with RGB data ([0..1] for floats or [0..255] for integers).\n"
          ],
          "name": "stderr"
        },
        {
          "output_type": "display_data",
          "data": {
            "image/png": "[encoded data removed]",
            "text/plain": [
              "<Figure size 432x288 with 1 Axes>"
            ]
          },
          "metadata": {
            "tags": []
          }
        },
        {
          "output_type": "stream",
          "text": [
            "Clipping input data to the valid range for imshow with RGB data ([0..1] for floats or [0..255] for integers).\n"
          ],
          "name": "stderr"
        },
        {
          "output_type": "display_data",
          "data": {
            "image/png": "[encoded data removed]",
            "text/plain": [
              "<Figure size 432x288 with 1 Axes>"
            ]
          },
          "metadata": {
            "tags": []
          }
        },
        {
          "output_type": "stream",
          "text": [
            "Clipping input data to the valid range for imshow with RGB data ([0..1] for floats or [0..255] for integers).\n"
          ],
          "name": "stderr"
        },
        {
          "output_type": "display_data",
          "data": {
            "image/png": "[encoded data removed]",
            "text/plain": [
              "<Figure size 432x288 with 1 Axes>"
            ]
          },
          "metadata": {
            "tags": []
          }
        },
        {
          "output_type": "stream",
          "text": [
            "Clipping input data to the valid range for imshow with RGB data ([0..1] for floats or [0..255] for integers).\n"
          ],
          "name": "stderr"
        },
        {
          "output_type": "display_data",
          "data": {
            "image/png": "[encoded data removed]",
            "text/plain": [
              "<Figure size 432x288 with 1 Axes>"
            ]
          },
          "metadata": {
            "tags": []
          }
        },
        {
          "output_type": "stream",
          "text": [
            "Clipping input data to the valid range for imshow with RGB data ([0..1] for floats or [0..255] for integers).\n"
          ],
          "name": "stderr"
        },
        {
          "output_type": "display_data",
          "data": {
            "image/png": "[encoded data removed]",
            "text/plain": [
              "<Figure size 432x288 with 1 Axes>"
            ]
          },
          "metadata": {
            "tags": []
          }
        }
      ]
    },
    {
      "cell_type": "markdown",
      "metadata": {
        "id": "LGWphXch5btV",
        "colab_type": "text"
      },
      "source": [
        "**Preparing the dataset**\n",
        "\n",
        "We are going to use the deep convolutional neural network to classify the images. Instead of class indices we will use one-hot encoded vectors to represent the labels of the samples"
      ]
    },
    {
      "cell_type": "code",
      "metadata": {
        "id": "m8lMYI4z50lM",
        "colab_type": "code",
        "colab": {}
      },
      "source": [
        "cifar_num_classes = 10\n",
        "# Transform label indices to one-hot encoded vectors\n",
        "y_train = to_categorical(y_train, cifar_num_classes)\n",
        "y_test = to_categorical(y_test, cifar_num_classes)\n",
        "\n",
        "X_train = X_train.astype('float32')\n",
        "X_test = X_test.astype('float32')"
      ],
      "execution_count": 0,
      "outputs": []
    },
    {
      "cell_type": "markdown",
      "metadata": {
        "id": "G5OYu7kT8ApD",
        "colab_type": "text"
      },
      "source": [
        "**Normalize the image data**\n",
        "\n",
        "A simple way to normalize our data is to scale the pixel values between 0 to 1 range."
      ]
    },
    {
      "cell_type": "code",
      "metadata": {
        "id": "EPH7oUho8REc",
        "colab_type": "code",
        "colab": {}
      },
      "source": [
        "\n",
        "# Normalization of pixel values between 0 to 1 range \n",
        "X_train /= 255.0\n",
        "X_test /= 255.0"
      ],
      "execution_count": 0,
      "outputs": []
    },
    {
      "cell_type": "code",
      "metadata": {
        "id": "XEHS-h5Xx_vb",
        "colab_type": "code",
        "outputId": "d65a325b-d9d4-4fa0-fe0e-8e5c4d9e7060",
        "colab": {
          "base_uri": "https://localhost:8080/",
          "height": 52
        }
      },
      "source": [
        "#z-score\n",
        "mean = np.mean(x_train,axis=(0,1,2,3))\n",
        "std = np.std(x_train,axis=(0,1,2,3))\n",
        "x_train = (x_train-mean)/(std+1e-7)\n",
        "x_test = (x_test-mean)/(std+1e-7)\n",
        "\n",
        "num_classes = 10\n",
        "y_train = np_utils.to_categorical(y_train,num_classes)\n",
        "y_test = np_utils.to_categorical(y_test,num_classes)\n",
        "\n",
        "\n",
        "# ...and to scale it to (-1, 1)\n",
        "X_train = np.multiply(x_train, 2.0)\n",
        "X_test = np.multiply(x_test, 2.0)\n",
        "print(\"X_train.shape:\",X_train.shape)\n",
        "print(\"X_test.shape:\",X_test.shape)"
      ],
      "execution_count": 8,
      "outputs": [
        {
          "output_type": "stream",
          "text": [
            "X_train.shape: (50000, 32, 32, 3)\n",
            "X_test.shape: (10000, 32, 32, 3)\n"
          ],
          "name": "stdout"
        }
      ]
    },
    {
      "cell_type": "code",
      "metadata": {
        "id": "aOFnQdDux_6J",
        "colab_type": "code",
        "colab": {}
      },
      "source": [
        "def plt_dynamic(x, vy, ty, ax, colors=['b']):\n",
        "    ax.plot(x, vy, 'b', label=\"Validation Loss\")\n",
        "    ax.plot(x, ty, 'r', label=\"Train Loss\")\n",
        "    plt.legend()\n",
        "    plt.grid()\n",
        "    fig.canvas.draw()\n",
        "K.clear_session()\n",
        "weight_decay = 1e-4"
      ],
      "execution_count": 0,
      "outputs": []
    },
    {
      "cell_type": "markdown",
      "metadata": {
        "id": "6xBls-qL8yfm",
        "colab_type": "text"
      },
      "source": [
        "**Creating CNN model**\n",
        "\n",
        "We will use three convolutional layers, each with a kernel size of (3,3) and ReLU activation function. First convolutional layer with 32 filters, second convolutional layer with 64 filters and so on......"
      ]
    },
    {
      "cell_type": "markdown",
      "metadata": {
        "colab_type": "text",
        "id": "T-bYncpGBK-4"
      },
      "source": [
        "**Training of Convolutional Neural Network (CNN) Model**\n",
        "\n",
        "Let's train our model now! We will store the training loss values and metrics in a history object, so we can visualize the training process later.\n",
        "\n",
        "We are going to train the model for 50 epochs."
      ]
    },
    {
      "cell_type": "code",
      "metadata": {
        "id": "5tIRrkP7yP9R",
        "colab_type": "code",
        "outputId": "5fe10232-306a-41df-9949-638a2d3df976",
        "colab": {
          "base_uri": "https://localhost:8080/",
          "height": 1000
        }
      },
      "source": [
        "# TODO: Implement you own model here\n",
        "model = Sequential()\n",
        "\n",
        "model.add(Conv2D(filters = 32, kernel_size = (3,3),padding = 'Same', \n",
        "                 activation ='relu', input_shape = (32, 32, 3)))\n",
        "\n",
        "model.add(Conv2D(filters = 32, kernel_size = (3,3),padding = 'Same', \n",
        "                 activation ='relu'))\n",
        "model.add(MaxPool2D(pool_size=(2,2)))\n",
        "model.add(Dropout(0.25))\n",
        "\n",
        "\n",
        "model.add(Conv2D(filters = 64, kernel_size = (3,3),padding = 'Same', \n",
        "                 activation ='relu'))\n",
        "model.add(Conv2D(filters = 64, kernel_size = (3,3),padding = 'Same', \n",
        "                 activation ='relu'))\n",
        "model.add(MaxPool2D(pool_size=(2,2), strides=(2,2)))\n",
        "model.add(Dropout(0.5))\n",
        "\n",
        "\n",
        "model.add(Flatten())\n",
        "model.add(Dense(256, activation = \"relu\"))\n",
        "model.add(Dropout(0.5))\n",
        "model.add(Dense(10, activation = \"softmax\"))\n",
        "\n",
        "model.summary()\n",
        "\n",
        "## Finally, compile the model here \n",
        "model.compile(optimizer = 'adam',\n",
        "              loss = 'binary_crossentropy',\n",
        "              metrics = ['accuracy'])\n",
        "\n",
        "\n",
        "model.summary()\n",
        "\n",
        "# Train the model\n",
        "model.fit(x_train, y_train, epochs=25, validation_data=(x_test, y_test), shuffle=True)"
      ],
      "execution_count": 14,
      "outputs": [
        {
          "output_type": "stream",
          "text": [
            "Model: \"sequential_1\"\n",
            "_________________________________________________________________\n",
            "Layer (type)                 Output Shape              Param #   \n",
            "=================================================================\n",
            "conv2d_1 (Conv2D)            (None, 32, 32, 32)        896       \n",
            "_________________________________________________________________\n",
            "conv2d_2 (Conv2D)            (None, 32, 32, 32)        9248      \n",
            "_________________________________________________________________\n",
            "max_pooling2d_1 (MaxPooling2 (None, 16, 16, 32)        0         \n",
            "_________________________________________________________________\n",
            "dropout_1 (Dropout)          (None, 16, 16, 32)        0         \n",
            "_________________________________________________________________\n",
            "conv2d_3 (Conv2D)            (None, 16, 16, 64)        18496     \n",
            "_________________________________________________________________\n",
            "conv2d_4 (Conv2D)            (None, 16, 16, 64)        36928     \n",
            "_________________________________________________________________\n",
            "max_pooling2d_2 (MaxPooling2 (None, 8, 8, 64)          0         \n",
            "_________________________________________________________________\n",
            "dropout_2 (Dropout)          (None, 8, 8, 64)          0         \n",
            "_________________________________________________________________\n",
            "flatten_1 (Flatten)          (None, 4096)              0         \n",
            "_________________________________________________________________\n",
            "dense_1 (Dense)              (None, 256)               1048832   \n",
            "_________________________________________________________________\n",
            "dropout_3 (Dropout)          (None, 256)               0         \n",
            "_________________________________________________________________\n",
            "dense_2 (Dense)              (None, 10)                2570      \n",
            "=================================================================\n",
            "Total params: 1,116,970\n",
            "Trainable params: 1,116,970\n",
            "Non-trainable params: 0\n",
            "_________________________________________________________________\n",
            "Model: \"sequential_1\"\n",
            "_________________________________________________________________\n",
            "Layer (type)                 Output Shape              Param #   \n",
            "=================================================================\n",
            "conv2d_1 (Conv2D)            (None, 32, 32, 32)        896       \n",
            "_________________________________________________________________\n",
            "conv2d_2 (Conv2D)            (None, 32, 32, 32)        9248      \n",
            "_________________________________________________________________\n",
            "max_pooling2d_1 (MaxPooling2 (None, 16, 16, 32)        0         \n",
            "_________________________________________________________________\n",
            "dropout_1 (Dropout)          (None, 16, 16, 32)        0         \n",
            "_________________________________________________________________\n",
            "conv2d_3 (Conv2D)            (None, 16, 16, 64)        18496     \n",
            "_________________________________________________________________\n",
            "conv2d_4 (Conv2D)            (None, 16, 16, 64)        36928     \n",
            "_________________________________________________________________\n",
            "max_pooling2d_2 (MaxPooling2 (None, 8, 8, 64)          0         \n",
            "_________________________________________________________________\n",
            "dropout_2 (Dropout)          (None, 8, 8, 64)          0         \n",
            "_________________________________________________________________\n",
            "flatten_1 (Flatten)          (None, 4096)              0         \n",
            "_________________________________________________________________\n",
            "dense_1 (Dense)              (None, 256)               1048832   \n",
            "_________________________________________________________________\n",
            "dropout_3 (Dropout)          (None, 256)               0         \n",
            "_________________________________________________________________\n",
            "dense_2 (Dense)              (None, 10)                2570      \n",
            "=================================================================\n",
            "Total params: 1,116,970\n",
            "Trainable params: 1,116,970\n",
            "Non-trainable params: 0\n",
            "_________________________________________________________________\n",
            "Train on 50000 samples, validate on 10000 samples\n",
            "Epoch 1/25\n",
            "50000/50000 [==============================] - 13s 255us/step - loss: 0.2267 - acc: 0.9140 - val_loss: 0.1745 - val_acc: 0.9312\n",
            "Epoch 2/25\n",
            "50000/50000 [==============================] - 13s 252us/step - loss: 0.1787 - acc: 0.9301 - val_loss: 0.1513 - val_acc: 0.9403\n",
            "Epoch 3/25\n",
            "50000/50000 [==============================] - 12s 249us/step - loss: 0.1601 - acc: 0.9374 - val_loss: 0.1424 - val_acc: 0.9435\n",
            "Epoch 4/25\n",
            "50000/50000 [==============================] - 13s 256us/step - loss: 0.1499 - acc: 0.9415 - val_loss: 0.1338 - val_acc: 0.9473\n",
            "Epoch 5/25\n",
            "50000/50000 [==============================] - 13s 256us/step - loss: 0.1433 - acc: 0.9440 - val_loss: 0.1291 - val_acc: 0.9479\n",
            "Epoch 6/25\n",
            "50000/50000 [==============================] - 13s 254us/step - loss: 0.1386 - acc: 0.9457 - val_loss: 0.1219 - val_acc: 0.9513\n",
            "Epoch 7/25\n",
            "50000/50000 [==============================] - 12s 247us/step - loss: 0.1341 - acc: 0.9476 - val_loss: 0.1181 - val_acc: 0.9531\n",
            "Epoch 8/25\n",
            "50000/50000 [==============================] - 13s 261us/step - loss: 0.1313 - acc: 0.9484 - val_loss: 0.1181 - val_acc: 0.9535\n",
            "Epoch 9/25\n",
            "50000/50000 [==============================] - 13s 257us/step - loss: 0.1280 - acc: 0.9499 - val_loss: 0.1138 - val_acc: 0.9550\n",
            "Epoch 10/25\n",
            "50000/50000 [==============================] - 13s 255us/step - loss: 0.1257 - acc: 0.9509 - val_loss: 0.1178 - val_acc: 0.9535\n",
            "Epoch 11/25\n",
            "50000/50000 [==============================] - 13s 255us/step - loss: 0.1236 - acc: 0.9519 - val_loss: 0.1157 - val_acc: 0.9544\n",
            "Epoch 12/25\n",
            "50000/50000 [==============================] - 13s 251us/step - loss: 0.1208 - acc: 0.9528 - val_loss: 0.1145 - val_acc: 0.9546\n",
            "Epoch 13/25\n",
            "50000/50000 [==============================] - 13s 260us/step - loss: 0.1189 - acc: 0.9535 - val_loss: 0.1106 - val_acc: 0.9567\n",
            "Epoch 14/25\n",
            "50000/50000 [==============================] - 13s 251us/step - loss: 0.1185 - acc: 0.9538 - val_loss: 0.1085 - val_acc: 0.9571\n",
            "Epoch 15/25\n",
            "50000/50000 [==============================] - 13s 265us/step - loss: 0.1167 - acc: 0.9546 - val_loss: 0.1100 - val_acc: 0.9566\n",
            "Epoch 16/25\n",
            "50000/50000 [==============================] - 13s 259us/step - loss: 0.1156 - acc: 0.9550 - val_loss: 0.1112 - val_acc: 0.9562\n",
            "Epoch 17/25\n",
            "50000/50000 [==============================] - 13s 254us/step - loss: 0.1142 - acc: 0.9560 - val_loss: 0.1069 - val_acc: 0.9587\n",
            "Epoch 18/25\n",
            "50000/50000 [==============================] - 13s 259us/step - loss: 0.1123 - acc: 0.9561 - val_loss: 0.1087 - val_acc: 0.9580\n",
            "Epoch 19/25\n",
            "50000/50000 [==============================] - 12s 249us/step - loss: 0.1109 - acc: 0.9570 - val_loss: 0.1049 - val_acc: 0.9592\n",
            "Epoch 20/25\n",
            "50000/50000 [==============================] - 13s 253us/step - loss: 0.1114 - acc: 0.9567 - val_loss: 0.1069 - val_acc: 0.9587\n",
            "Epoch 21/25\n",
            "50000/50000 [==============================] - 12s 249us/step - loss: 0.1108 - acc: 0.9567 - val_loss: 0.1104 - val_acc: 0.9579\n",
            "Epoch 22/25\n",
            "50000/50000 [==============================] - 13s 255us/step - loss: 0.1093 - acc: 0.9574 - val_loss: 0.1060 - val_acc: 0.9585\n",
            "Epoch 23/25\n",
            "50000/50000 [==============================] - 13s 251us/step - loss: 0.1088 - acc: 0.9577 - val_loss: 0.1066 - val_acc: 0.9588\n",
            "Epoch 24/25\n",
            "50000/50000 [==============================] - 12s 248us/step - loss: 0.1080 - acc: 0.9582 - val_loss: 0.1059 - val_acc: 0.9595\n",
            "Epoch 25/25\n",
            "50000/50000 [==============================] - 13s 254us/step - loss: 0.1074 - acc: 0.9583 - val_loss: 0.1009 - val_acc: 0.9613\n"
          ],
          "name": "stdout"
        },
        {
          "output_type": "execute_result",
          "data": {
            "text/plain": [
              "<keras.callbacks.History at 0x7fef69f14c88>"
            ]
          },
          "metadata": {
            "tags": []
          },
          "execution_count": 14
        }
      ]
    },
    {
      "cell_type": "markdown",
      "metadata": {
        "id": "Ivu8OhEM9ZYe",
        "colab_type": "text"
      },
      "source": [
        "**Training of Convolutional Neural Network (CNN) Model**\n",
        "\n",
        "Let's train our model now! We will store the training loss values and metrics in a history object, so we can visualize the training process later.\n",
        "\n",
        "We are going to train the model for 50 epochs."
      ]
    },
    {
      "cell_type": "code",
      "metadata": {
        "id": "NSqjeF8lyQWx",
        "colab_type": "code",
        "colab": {}
      },
      "source": [
        "#data augmentation\n",
        "datagen = ImageDataGenerator(\n",
        "    rotation_range=15,\n",
        "    width_shift_range=0.1,\n",
        "    height_shift_range=0.1,\n",
        "    horizontal_flip=True,\n",
        "    )\n"
      ],
      "execution_count": 0,
      "outputs": []
    },
    {
      "cell_type": "code",
      "metadata": {
        "id": "siODNjY4ygyH",
        "colab_type": "code",
        "outputId": "83163eba-431b-48ae-ce32-5a7dda19ecef",
        "colab": {
          "base_uri": "https://localhost:8080/",
          "height": 337
        }
      },
      "source": [
        "plt.style.use('ggplot')\n",
        "\n",
        "def plot_history(history):\n",
        "    acc = model.history.history['acc']\n",
        "    val_acc = model.history.history['val_acc']\n",
        "    loss = model.history.history['loss']\n",
        "    val_loss = model.history.history['val_loss']\n",
        "    x = range(1, len(acc) + 1)\n",
        "\n",
        "    plt.figure(figsize=(12, 5))\n",
        "    plt.subplot(1, 2, 1)\n",
        "    plt.plot(x, acc, 'b', label='Training acc')\n",
        "    plt.plot(x, val_acc, 'r', label='Validation acc')\n",
        "    plt.title('Training and validation accuracy')\n",
        "    plt.legend()\n",
        "    plt.subplot(1, 2, 2)\n",
        "    plt.plot(x, loss, 'b', label='Training loss')\n",
        "    plt.plot(x, val_loss, 'r', label='Validation loss')\n",
        "    plt.title('Training and validation loss')\n",
        "    plt.legend()\n",
        "plot_history(model.history)"
      ],
      "execution_count": 16,
      "outputs": [
        {
          "output_type": "display_data",
          "data": {
            "image/png": "[encoded data removed]",
            "text/plain": [
              "<Figure size 864x360 with 2 Axes>"
            ]
          },
          "metadata": {
            "tags": []
          }
        }
      ]
    },
    {
      "cell_type": "code",
      "metadata": {
        "id": "C63sYchbyg6L",
        "colab_type": "code",
        "outputId": "09b9306d-f548-47e8-9acf-248df83ad11f",
        "colab": {
          "base_uri": "https://localhost:8080/",
          "height": 54
        }
      },
      "source": [
        "#save to disk\n",
        "model_json = model.to_json()\n",
        "with open('/content/drive/My Drive/YUNES-1928005/Model_玉书_1928005.json', 'w') as json_file:\n",
        "    json_file.write(model_json)\n",
        "\n",
        "model.save_weights('/content/drive/My Drive/YUNES-1928005/Weight_ 玉书_1928005.h5')\n",
        "scores = model.evaluate(x_test, y_test) # accuracy on the test set\n",
        "print(\"Accuracy test: %.2f%%\" % (scores[1]*100))"
      ],
      "execution_count": 18,
      "outputs": [
        {
          "output_type": "stream",
          "text": [
            "10000/10000 [==============================] - 1s 96us/step\n",
            "Accuracy test: 96.13%\n"
          ],
          "name": "stdout"
        }
      ]
    },
    {
      "cell_type": "code",
      "metadata": {
        "id": "OW2KZdNvymU0",
        "colab_type": "code",
        "outputId": "4c3b59c1-9b06-4ec3-8048-b855f2ce7079",
        "colab": {
          "base_uri": "https://localhost:8080/",
          "height": 90
        }
      },
      "source": [
        "# Compute loss and acc for training and testing\n",
        "loss_train, acc_train = model.evaluate(x_train, y_train) # TODO: You migh need to change y_train to y_train_cat\n",
        "loss_test, acc_test = model.evaluate(x_test, y_test) # TODO: You migh need to change y_test to y_test_cat\n",
        "print('\\nLoss: %f/%f Acc: %f/%f' % (loss_train, loss_test, acc_train, acc_test))"
      ],
      "execution_count": 19,
      "outputs": [
        {
          "output_type": "stream",
          "text": [
            "50000/50000 [==============================] - 5s 99us/step\n",
            "10000/10000 [==============================] - 1s 94us/step\n",
            "\n",
            "Loss: 0.063489/0.100914 Acc: 0.975694/0.961290\n"
          ],
          "name": "stdout"
        }
      ]
    },
    {
      "cell_type": "code",
      "metadata": {
        "id": "fRbDpoG-ymeh",
        "colab_type": "code",
        "outputId": "b5b12ee3-89c7-4b1d-9acf-7e71d7fec373",
        "colab": {
          "base_uri": "https://localhost:8080/",
          "height": 70
        }
      },
      "source": [
        "#testing\n",
        "scores = model.evaluate(x_test, y_test, batch_size=128, verbose=1)\n",
        "print('\\nTest result: %.3f loss: %.3f' % (scores[1]*100,scores[0]))"
      ],
      "execution_count": 0,
      "outputs": [
        {
          "output_type": "stream",
          "text": [
            "10000/10000 [==============================] - 1s 60us/step\n",
            "\n",
            "Test result: 96.320 loss: 0.099\n"
          ],
          "name": "stdout"
        }
      ]
    }
  ]
}